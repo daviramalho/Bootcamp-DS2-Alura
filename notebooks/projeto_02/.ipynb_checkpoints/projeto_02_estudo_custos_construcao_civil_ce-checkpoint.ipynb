{
 "cells": [
  {
   "cell_type": "markdown",
   "id": "71770834",
   "metadata": {},
   "source": [
    "### Bases de Dados\n",
    "\n",
    "- [Tabela de Custos Secretaria de Infraestrutura do Estado do Ceará](https://www.seinfra.ce.gov.br/tabela-de-custos/)"
   ]
  },
  {
   "cell_type": "code",
   "execution_count": 64,
   "id": "fbf70f87",
   "metadata": {},
   "outputs": [],
   "source": [
    "import pandas as pd"
   ]
  },
  {
   "cell_type": "code",
   "execution_count": 65,
   "id": "af18069f",
   "metadata": {},
   "outputs": [],
   "source": [
    "src = '../../data/projeto_02/027.1-insumos.xls'\n",
    "src2 = '../../data/projeto_02/026.1-insumos.xls'\n",
    "src3 = '../../data/projeto_02/025.1A-insumos.xls'\n",
    "src4 = '../../data/projeto_02/024.1-insumos.xls'"
   ]
  },
  {
   "cell_type": "code",
   "execution_count": 66,
   "id": "908dc508",
   "metadata": {},
   "outputs": [],
   "source": [
    "dados = pd.read_excel(src, skiprows=4)\n",
    "dados2 = pd.read_excel(src2, skiprows=2)\n",
    "dados3 = pd.read_excel(src3, skiprows=2)\n",
    "dados4 = pd.read_excel(src4, skiprows=2)"
   ]
  },
  {
   "cell_type": "code",
   "execution_count": 67,
   "id": "ef108be2",
   "metadata": {},
   "outputs": [
    {
     "data": {
      "text/html": [
       "<div>\n",
       "<style scoped>\n",
       "    .dataframe tbody tr th:only-of-type {\n",
       "        vertical-align: middle;\n",
       "    }\n",
       "\n",
       "    .dataframe tbody tr th {\n",
       "        vertical-align: top;\n",
       "    }\n",
       "\n",
       "    .dataframe thead th {\n",
       "        text-align: right;\n",
       "    }\n",
       "</style>\n",
       "<table border=\"1\" class=\"dataframe\">\n",
       "  <thead>\n",
       "    <tr style=\"text-align: right;\">\n",
       "      <th></th>\n",
       "      <th>Insumo</th>\n",
       "      <th>Descrição</th>\n",
       "      <th>Unidade</th>\n",
       "      <th>SEM ENCARGOS</th>\n",
       "      <th>COM ENCARGOS</th>\n",
       "    </tr>\n",
       "  </thead>\n",
       "  <tbody>\n",
       "    <tr>\n",
       "      <th>0</th>\n",
       "      <td>I7501</td>\n",
       "      <td>10 SLOTS CHASSIS MODULAR HARDWARE STYLE , MOD....</td>\n",
       "      <td>UN</td>\n",
       "      <td>1537.41</td>\n",
       "      <td>NaN</td>\n",
       "    </tr>\n",
       "    <tr>\n",
       "      <th>1</th>\n",
       "      <td>I7447</td>\n",
       "      <td>5/03 RS-232 ROGRAMMER CABLE 3m, MOD. 1747-CP3 AB</td>\n",
       "      <td>UN</td>\n",
       "      <td>67.26</td>\n",
       "      <td>NaN</td>\n",
       "    </tr>\n",
       "    <tr>\n",
       "      <th>2</th>\n",
       "      <td>I8222</td>\n",
       "      <td>ABÓBADA DE POLICARBONATO TRANSPARENTE</td>\n",
       "      <td>M2</td>\n",
       "      <td>597.48</td>\n",
       "      <td>NaN</td>\n",
       "    </tr>\n",
       "    <tr>\n",
       "      <th>3</th>\n",
       "      <td>I6472</td>\n",
       "      <td>ABRAÇADEIRA PARA POSTE DE CONCRETO DUPLO \"T\"</td>\n",
       "      <td>UN</td>\n",
       "      <td>6.01</td>\n",
       "      <td>NaN</td>\n",
       "    </tr>\n",
       "    <tr>\n",
       "      <th>4</th>\n",
       "      <td>I6700</td>\n",
       "      <td>ABRAÇADEIRAS EM FERRO BARRA CHATA 1/4\" PINTURA...</td>\n",
       "      <td>UN</td>\n",
       "      <td>36.40</td>\n",
       "      <td>NaN</td>\n",
       "    </tr>\n",
       "    <tr>\n",
       "      <th>...</th>\n",
       "      <td>...</td>\n",
       "      <td>...</td>\n",
       "      <td>...</td>\n",
       "      <td>...</td>\n",
       "      <td>...</td>\n",
       "    </tr>\n",
       "    <tr>\n",
       "      <th>7379</th>\n",
       "      <td>I2261</td>\n",
       "      <td>VOLTÍMETRO ( 144 X 144 )MM - ESC. 0 - 500V</td>\n",
       "      <td>UN</td>\n",
       "      <td>195.68</td>\n",
       "      <td>NaN</td>\n",
       "    </tr>\n",
       "    <tr>\n",
       "      <th>7380</th>\n",
       "      <td>I2262</td>\n",
       "      <td>VOLTÍMETRO (72 X 72)MM - ESC. 0 - 500V</td>\n",
       "      <td>UN</td>\n",
       "      <td>126.62</td>\n",
       "      <td>NaN</td>\n",
       "    </tr>\n",
       "    <tr>\n",
       "      <th>7381</th>\n",
       "      <td>I2263</td>\n",
       "      <td>VOLTÍMETRO (96 X 96)MM - ESC. 0 A 500V</td>\n",
       "      <td>UN</td>\n",
       "      <td>155.39</td>\n",
       "      <td>NaN</td>\n",
       "    </tr>\n",
       "    <tr>\n",
       "      <th>7382</th>\n",
       "      <td>I6041</td>\n",
       "      <td>XEROX</td>\n",
       "      <td>UN</td>\n",
       "      <td>0.14</td>\n",
       "      <td>NaN</td>\n",
       "    </tr>\n",
       "    <tr>\n",
       "      <th>7383</th>\n",
       "      <td>I2293</td>\n",
       "      <td>ZARCÃO</td>\n",
       "      <td>L</td>\n",
       "      <td>15.49</td>\n",
       "      <td>NaN</td>\n",
       "    </tr>\n",
       "  </tbody>\n",
       "</table>\n",
       "<p>7384 rows × 5 columns</p>\n",
       "</div>"
      ],
      "text/plain": [
       "     Insumo                                          Descrição Unidade  \\\n",
       "0     I7501  10 SLOTS CHASSIS MODULAR HARDWARE STYLE , MOD....      UN   \n",
       "1     I7447   5/03 RS-232 ROGRAMMER CABLE 3m, MOD. 1747-CP3 AB      UN   \n",
       "2     I8222              ABÓBADA DE POLICARBONATO TRANSPARENTE      M2   \n",
       "3     I6472       ABRAÇADEIRA PARA POSTE DE CONCRETO DUPLO \"T\"      UN   \n",
       "4     I6700  ABRAÇADEIRAS EM FERRO BARRA CHATA 1/4\" PINTURA...      UN   \n",
       "...     ...                                                ...     ...   \n",
       "7379  I2261         VOLTÍMETRO ( 144 X 144 )MM - ESC. 0 - 500V      UN   \n",
       "7380  I2262             VOLTÍMETRO (72 X 72)MM - ESC. 0 - 500V      UN   \n",
       "7381  I2263             VOLTÍMETRO (96 X 96)MM - ESC. 0 A 500V      UN   \n",
       "7382  I6041                                              XEROX      UN   \n",
       "7383  I2293                                             ZARCÃO       L   \n",
       "\n",
       "      SEM ENCARGOS  COM ENCARGOS  \n",
       "0          1537.41           NaN  \n",
       "1            67.26           NaN  \n",
       "2           597.48           NaN  \n",
       "3             6.01           NaN  \n",
       "4            36.40           NaN  \n",
       "...            ...           ...  \n",
       "7379        195.68           NaN  \n",
       "7380        126.62           NaN  \n",
       "7381        155.39           NaN  \n",
       "7382          0.14           NaN  \n",
       "7383         15.49           NaN  \n",
       "\n",
       "[7384 rows x 5 columns]"
      ]
     },
     "execution_count": 67,
     "metadata": {},
     "output_type": "execute_result"
    }
   ],
   "source": [
    "dados4"
   ]
  },
  {
   "cell_type": "code",
   "execution_count": 68,
   "id": "2d10b997",
   "metadata": {},
   "outputs": [],
   "source": [
    "#dados_filtrados = dados[dados['Descrição'].str.contains('CIMENTO', na=False)]\n",
    "#dados_filtrados"
   ]
  },
  {
   "cell_type": "code",
   "execution_count": 69,
   "id": "6029afe0",
   "metadata": {},
   "outputs": [
    {
     "data": {
      "text/html": [
       "<div>\n",
       "<style scoped>\n",
       "    .dataframe tbody tr th:only-of-type {\n",
       "        vertical-align: middle;\n",
       "    }\n",
       "\n",
       "    .dataframe tbody tr th {\n",
       "        vertical-align: top;\n",
       "    }\n",
       "\n",
       "    .dataframe thead th {\n",
       "        text-align: right;\n",
       "    }\n",
       "</style>\n",
       "<table border=\"1\" class=\"dataframe\">\n",
       "  <thead>\n",
       "    <tr style=\"text-align: right;\">\n",
       "      <th></th>\n",
       "      <th>Insumo</th>\n",
       "      <th>Descrição</th>\n",
       "      <th>Unidade</th>\n",
       "      <th>Valor (R$)</th>\n",
       "    </tr>\n",
       "  </thead>\n",
       "  <tbody>\n",
       "    <tr>\n",
       "      <th>51</th>\n",
       "      <td>I0805</td>\n",
       "      <td>CIMENTO PORTLAND</td>\n",
       "      <td>KG</td>\n",
       "      <td>0.56</td>\n",
       "    </tr>\n",
       "    <tr>\n",
       "      <th>8006</th>\n",
       "      <td>I0828</td>\n",
       "      <td>CONCRETO USINADO FCK=25 MPA</td>\n",
       "      <td>M3</td>\n",
       "      <td>309.52</td>\n",
       "    </tr>\n",
       "  </tbody>\n",
       "</table>\n",
       "</div>"
      ],
      "text/plain": [
       "     Insumo                    Descrição Unidade Valor (R$)\n",
       "51    I0805             CIMENTO PORTLAND      KG       0.56\n",
       "8006  I0828  CONCRETO USINADO FCK=25 MPA      M3     309.52"
      ]
     },
     "execution_count": 69,
     "metadata": {},
     "output_type": "execute_result"
    }
   ],
   "source": [
    "dados.query(\"Insumo == 'I0828' or Insumo == 'I0805'\")"
   ]
  },
  {
   "cell_type": "code",
   "execution_count": 70,
   "id": "6489ab7a",
   "metadata": {},
   "outputs": [
    {
     "data": {
      "text/html": [
       "<div>\n",
       "<style scoped>\n",
       "    .dataframe tbody tr th:only-of-type {\n",
       "        vertical-align: middle;\n",
       "    }\n",
       "\n",
       "    .dataframe tbody tr th {\n",
       "        vertical-align: top;\n",
       "    }\n",
       "\n",
       "    .dataframe thead th {\n",
       "        text-align: right;\n",
       "    }\n",
       "</style>\n",
       "<table border=\"1\" class=\"dataframe\">\n",
       "  <thead>\n",
       "    <tr style=\"text-align: right;\">\n",
       "      <th></th>\n",
       "      <th>Insumo</th>\n",
       "      <th>Descrição</th>\n",
       "      <th>Unidade</th>\n",
       "      <th>VALOR</th>\n",
       "    </tr>\n",
       "  </thead>\n",
       "  <tbody>\n",
       "    <tr>\n",
       "      <th>1295</th>\n",
       "      <td>I0805</td>\n",
       "      <td>CIMENTO PORTLAND</td>\n",
       "      <td>KG</td>\n",
       "      <td>0.46</td>\n",
       "    </tr>\n",
       "    <tr>\n",
       "      <th>1461</th>\n",
       "      <td>I0828</td>\n",
       "      <td>CONCRETO USINADO FCK=25 MPA</td>\n",
       "      <td>M3</td>\n",
       "      <td>265.00</td>\n",
       "    </tr>\n",
       "  </tbody>\n",
       "</table>\n",
       "</div>"
      ],
      "text/plain": [
       "     Insumo                    Descrição Unidade   VALOR\n",
       "1295  I0805             CIMENTO PORTLAND      KG    0.46\n",
       "1461  I0828  CONCRETO USINADO FCK=25 MPA      M3  265.00"
      ]
     },
     "execution_count": 70,
     "metadata": {},
     "output_type": "execute_result"
    }
   ],
   "source": [
    "dados2.query(\"Insumo == 'I0828' or Insumo == 'I0805'\")"
   ]
  },
  {
   "cell_type": "code",
   "execution_count": 71,
   "id": "03fa51f2",
   "metadata": {},
   "outputs": [
    {
     "data": {
      "text/html": [
       "<div>\n",
       "<style scoped>\n",
       "    .dataframe tbody tr th:only-of-type {\n",
       "        vertical-align: middle;\n",
       "    }\n",
       "\n",
       "    .dataframe tbody tr th {\n",
       "        vertical-align: top;\n",
       "    }\n",
       "\n",
       "    .dataframe thead th {\n",
       "        text-align: right;\n",
       "    }\n",
       "</style>\n",
       "<table border=\"1\" class=\"dataframe\">\n",
       "  <thead>\n",
       "    <tr style=\"text-align: right;\">\n",
       "      <th></th>\n",
       "      <th>Insumo</th>\n",
       "      <th>Descrição</th>\n",
       "      <th>Unidade</th>\n",
       "      <th>VALOR</th>\n",
       "    </tr>\n",
       "  </thead>\n",
       "  <tbody>\n",
       "    <tr>\n",
       "      <th>1241</th>\n",
       "      <td>I0805</td>\n",
       "      <td>CIMENTO PORTLAND</td>\n",
       "      <td>KG</td>\n",
       "      <td>0.46</td>\n",
       "    </tr>\n",
       "    <tr>\n",
       "      <th>1397</th>\n",
       "      <td>I0828</td>\n",
       "      <td>CONCRETO USINADO FCK=25 MPA</td>\n",
       "      <td>M3</td>\n",
       "      <td>265.00</td>\n",
       "    </tr>\n",
       "  </tbody>\n",
       "</table>\n",
       "</div>"
      ],
      "text/plain": [
       "     Insumo                    Descrição Unidade   VALOR\n",
       "1241  I0805             CIMENTO PORTLAND      KG    0.46\n",
       "1397  I0828  CONCRETO USINADO FCK=25 MPA      M3  265.00"
      ]
     },
     "execution_count": 71,
     "metadata": {},
     "output_type": "execute_result"
    }
   ],
   "source": [
    "dados3.query(\"Insumo == 'I0828' or Insumo == 'I0805'\")"
   ]
  },
  {
   "cell_type": "code",
   "execution_count": 72,
   "id": "3aded326",
   "metadata": {},
   "outputs": [
    {
     "data": {
      "text/html": [
       "<div>\n",
       "<style scoped>\n",
       "    .dataframe tbody tr th:only-of-type {\n",
       "        vertical-align: middle;\n",
       "    }\n",
       "\n",
       "    .dataframe tbody tr th {\n",
       "        vertical-align: top;\n",
       "    }\n",
       "\n",
       "    .dataframe thead th {\n",
       "        text-align: right;\n",
       "    }\n",
       "</style>\n",
       "<table border=\"1\" class=\"dataframe\">\n",
       "  <thead>\n",
       "    <tr style=\"text-align: right;\">\n",
       "      <th></th>\n",
       "      <th>Insumo</th>\n",
       "      <th>Descrição</th>\n",
       "      <th>Unidade</th>\n",
       "      <th>SEM ENCARGOS</th>\n",
       "      <th>COM ENCARGOS</th>\n",
       "    </tr>\n",
       "  </thead>\n",
       "  <tbody>\n",
       "    <tr>\n",
       "      <th>1225</th>\n",
       "      <td>I0805</td>\n",
       "      <td>CIMENTO PORTLAND</td>\n",
       "      <td>KG</td>\n",
       "      <td>0.5</td>\n",
       "      <td>NaN</td>\n",
       "    </tr>\n",
       "    <tr>\n",
       "      <th>1383</th>\n",
       "      <td>I0828</td>\n",
       "      <td>CONCRETO USINADO FCK=25 MPA</td>\n",
       "      <td>M3</td>\n",
       "      <td>265.0</td>\n",
       "      <td>NaN</td>\n",
       "    </tr>\n",
       "  </tbody>\n",
       "</table>\n",
       "</div>"
      ],
      "text/plain": [
       "     Insumo                    Descrição Unidade  SEM ENCARGOS  COM ENCARGOS\n",
       "1225  I0805             CIMENTO PORTLAND      KG           0.5           NaN\n",
       "1383  I0828  CONCRETO USINADO FCK=25 MPA      M3         265.0           NaN"
      ]
     },
     "execution_count": 72,
     "metadata": {},
     "output_type": "execute_result"
    }
   ],
   "source": [
    "dados4.query(\"Insumo == 'I0828' or Insumo == 'I0805'\")"
   ]
  },
  {
   "cell_type": "code",
   "execution_count": null,
   "id": "6496ec02",
   "metadata": {},
   "outputs": [],
   "source": []
  }
 ],
 "metadata": {
  "kernelspec": {
   "display_name": "Python 3",
   "language": "python",
   "name": "python3"
  },
  "language_info": {
   "codemirror_mode": {
    "name": "ipython",
    "version": 3
   },
   "file_extension": ".py",
   "mimetype": "text/x-python",
   "name": "python",
   "nbconvert_exporter": "python",
   "pygments_lexer": "ipython3",
   "version": "3.9.5"
  }
 },
 "nbformat": 4,
 "nbformat_minor": 5
}
