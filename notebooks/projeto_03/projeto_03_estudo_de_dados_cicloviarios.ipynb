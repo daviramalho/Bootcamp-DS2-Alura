{
 "cells": [
  {
   "cell_type": "markdown",
   "id": "350359b5",
   "metadata": {},
   "source": [
    "### Bases de informações\n",
    "\n",
    "- [Bicicletar Fortaleza](http://www.bicicletar.com.br/)\n",
    "- [Mobilidade Fortaleza](https://catalogodeservicos.fortaleza.ce.gov.br/categoria/mobilidade)\n",
    "- [Amostra de dados SP](http://201.47.97.197/dadosabertos/amostradedados/)\n",
    "\n",
    "### Bases de Dados\n",
    "\n",
    "- [Dados Serttel Distrito Federal](https://dados.gov.br/dataset/viagens-feitas-com-sistema-de-bicicletas-compartilhadas-do-distrito-federal)\n",
    "- [Capital Bikeshare](https://www.capitalbikeshare.com/about)\n",
    "- [Capital Bikeshare dataset](https://s3.amazonaws.com/capitalbikeshare-data/index.html)\n",
    "- [UCI ML Repository](https://archive.ics.uci.edu/ml/datasets/bike+sharing+dataset)\n",
    "- [Kaggle Bikeshare dataset](https://www.kaggle.com/lakshmi25npathi/bike-sharing-dataset)\n",
    "- [London Cycling Open Data](https://cycling.data.tfl.gov.uk/)\n",
    "\n",
    "### Referências:\n",
    "\n",
    "- [Data footprint bike sharing London](https://medium.com/@AJOhrn/data-footprint-of-bike-sharing-in-london-be9e11425248)\n",
    "- [Alura - Séries Temporais e suas Aplicações](https://www.alura.com.br/artigos/series-temporais-e-suas-aplicacoes)\n",
    "- [Alura - Modelos Matemáticos utilizando séries temporais](https://www.alura.com.br/artigos/modelos-matematicos-utilizados-em-series-temporais)\n",
    "- [Article - Forecasting at Scale](https://peerj.com/preprints/3190/)\n",
    "\n",
    "### Bibliotecas Necessárias:\n",
    "\n",
    "- [Pandas ods reader](https://pypi.org/project/pandas-ods-reader/)\n",
    "- [odfpy](https://pypi.org/project/odfpy/)"
   ]
  },
  {
   "cell_type": "code",
   "execution_count": 1,
   "id": "86f951dc",
   "metadata": {},
   "outputs": [],
   "source": [
    "import pandas as pd\n",
    "from pandas_ods_reader import read_ods"
   ]
  },
  {
   "cell_type": "code",
   "execution_count": 2,
   "id": "36e7e3f2",
   "metadata": {},
   "outputs": [],
   "source": [
    "src = \"../../data/projeto_03/bikebrasiliamar2020sem-os-dados-pessoais.ods\""
   ]
  },
  {
   "cell_type": "code",
   "execution_count": 5,
   "id": "e7d70d45",
   "metadata": {},
   "outputs": [],
   "source": [
    "# Load sheet based on its index (1 based)\n",
    "\n",
    "sheet_idx = 2\n",
    "df = read_ods(src, sheet_idx)"
   ]
  },
  {
   "cell_type": "code",
   "execution_count": 9,
   "id": "ec9898c8",
   "metadata": {
    "scrolled": false
   },
   "outputs": [
    {
     "data": {
      "text/plain": [
       "Sexo                         object\n",
       "Nascimento                   object\n",
       "Idade                       float64\n",
       "País                         object\n",
       "Cidade                       object\n",
       "UF                           object\n",
       "Data de Cadastro             object\n",
       "Projeto                      object\n",
       "DataCorrida                  object\n",
       "DiaSemana                    object\n",
       "HoraRetirada                 object\n",
       "EstacaoRetirada              object\n",
       "AreaEstacaoRetirada          object\n",
       "EnderecoEstacaoRetirada      object\n",
       "Meio de Retirada             object\n",
       "HoraDevolucao                object\n",
       "EstacaoDevolucao             object\n",
       "AreaEstacaoDevolucao         object\n",
       "EnderecoEstacaoDevolucao     object\n",
       "Duração da Corrida           object\n",
       "dtype: object"
      ]
     },
     "execution_count": 9,
     "metadata": {},
     "output_type": "execute_result"
    }
   ],
   "source": [
    "df.dtypes"
   ]
  },
  {
   "cell_type": "code",
   "execution_count": null,
   "id": "382d092a",
   "metadata": {},
   "outputs": [],
   "source": []
  }
 ],
 "metadata": {
  "kernelspec": {
   "display_name": "Python 3",
   "language": "python",
   "name": "python3"
  },
  "language_info": {
   "codemirror_mode": {
    "name": "ipython",
    "version": 3
   },
   "file_extension": ".py",
   "mimetype": "text/x-python",
   "name": "python",
   "nbconvert_exporter": "python",
   "pygments_lexer": "ipython3",
   "version": "3.9.5"
  }
 },
 "nbformat": 4,
 "nbformat_minor": 5
}
