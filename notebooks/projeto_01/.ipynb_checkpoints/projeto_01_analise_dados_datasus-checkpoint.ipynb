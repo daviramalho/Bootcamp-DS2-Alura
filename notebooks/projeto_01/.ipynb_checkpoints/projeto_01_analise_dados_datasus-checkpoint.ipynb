{
 "cells": [
  {
   "cell_type": "markdown",
   "id": "789b9b68",
   "metadata": {},
   "source": [
    "# Projeto Módulo 01 - Bootcamp Data Science Aplicada\n",
    "\n",
    "Autor / Data / Contatos\n"
   ]
  },
  {
   "cell_type": "markdown",
   "id": "0e04eec2",
   "metadata": {},
   "source": [
    "## ESCOPO DO PROJETO\n",
    "\n",
    "\n",
    "\n",
    "### Justificativa\n",
    "\n",
    "O módulo 01 do Bootcamp de Data Science Aplicada da Alura nos aproximou da análise de dados reais do DATASUS com a ajuda do Python e Pandas para limpeza e tratamento dos dados, possibilitando então a análise exploratória dos mesmos com o suporte do Matplotlib.\n",
    "\n",
    "No módulo investigamos as despesas do SUS no território nacional a partir dos registros dos atendimentos e do processamento dos mesmos. As oscilações recorrentes desses registros nos levaram a investigar se havia alguma relação entre os picos de despesas e os picos de ocorrências de dengue. Afinal constatamos que existe uma aparente relação entre entre as despesas e as ocorrências sazonais de picos de dengue. Também foi possível perceber, em paralelo, como se manifestavam as despesas quando relacionadas com o tamanho da população de cada estado.\n",
    "\n",
    "Nesse cenário preliminar surgiram algumas questões de interesse para investigação e aprofundamento:\n",
    "- Qual o cenário **GERAL**, nos últimos anos, da relação entre despesas do SUS e o registro da população efetivamente atendida em cada Estado e Região do País? Qual a média de custo por habitante atendido em cada estado e região? Qual o comportamento dos dados quando comparamos os dados do Ceará com os 5 estados com maiores despesas do Brasil? Como se comporta o ceará em relação a média do Nordeste?\n",
    "\n",
    "- É possível espacializar a distribuição dos atendimentos e gastos do Estado do Ceará a **nível municipal?** Que municípios apresentaram maiores despesas e casos? É possível perceber, nesses municiṕios, uma relação entre aumento de despesas e sazonalidade de doenças? Que doenças apresentaram maior número de casos e despesas?\n",
    "\n",
    "- Em sequência, é possível espacializar esses dados a **nível intra-municipal (Bairros, setores censitários e CEP)**? Onde estão localizados o maior número de casos e despesas do SUS no território da Região Metropolitana de Fortaleza? Existe uma confluência entre as zonas com mais casos e as condições urbanas dessas zonas?\n",
    "\n",
    "### Problema / Hipótese\n",
    "\n",
    "### Objetivo Geral\n",
    "\n",
    "Identificar o tipo de ocorrência que levou a mais despesas do SUS no país nos últimos 10 anos, comparando com as despesas promovidas pelo Covid-19 entre março de 2020 e março de 2021, buscando espacializar esses dados no território da Região Metropolitana de Fortaleza.\n",
    "\n",
    "### Objetivos Específicos\n",
    "\n",
    "- Precisão no uso da estatística para exploração dos dados;\n",
    "- Elegância, simplicidade e clareza no uso da sintaxe do Python para o tratamento dos dados;\n",
    "- Boa comunicação gráfica dos resultados obtidos (DataViz);\n",
    "- Storytelling fluido na apresentação do estudo;\n",
    "<!---\n",
    "    - Storytelling > Análises > Parte Técnica (Estatística e Python/Gráficos);\n",
    "    - O mais importante é a conexão entre todas essas coisas: E se a sua vovó estivesse lendo seu relatório? Transformar em uma coisa tangível para quem é leigo: descrever\n",
    "    - Capricha no conjunto como um todo e reduz a complexidade do projeto. É um projeto, não uma tese.--->"
   ]
  },
  {
   "cell_type": "markdown",
   "id": "2a5ac93a",
   "metadata": {},
   "source": [
    "### Bases de dados consultadas\n",
    "\n",
    "- [DATASUS](http://www2.datasus.gov.br/DATASUS/index.php?area=0202&id=11633&VObj=http://tabnet.datasus.gov.br/cgi/deftohtm.exe?sih/cnv/qi)\n",
    "- [IntegraSUS-CE](https://integrasus.saude.ce.gov.br/#/indicadores) (Dicionário dos dados: [GitHub](https://github.com/integrasus/api-covid-ce))\n",
    "- [Brasil.IO](https://brasil.io/home/)\n",
    "- IBGE - [Dados quantitativos](https://ftp.ibge.gov.br/) e [Dados Geoespaciais](https://geoftp.ibge.gov.br/)\n",
    "- CEP?\n",
    "\n",
    "### Principais variáveis de interesse:\n",
    "\n",
    "- Dados Quantitativos:\n",
    "    - Despesas do SUS;\n",
    "    - População atendida;\n",
    "    - Índice de despesa / Habitante atendido;\n",
    "    - Doença responsável por maior índice de despesa\n",
    "\n",
    "- Escalas Territoriais:\n",
    "    - Unidades da Federação;\n",
    "    - Municípios do território de referência (Estado com maiores despesas do SUS) e Municípios do território investigado (Ceará);\n",
    "    - Região Metropolitana de Fortaleza: Municípios, Bairros, Setores Censitários, CEPs.\n",
    "\n",
    "- Escala temporal:\n",
    "    - Últimos 10 anos - Geral de casos de enfermidades;\n",
    "    - Março de 2020 a Março de 2021 - Para os casos de COVID."
   ]
  },
  {
   "cell_type": "markdown",
   "id": "9d6a65a1",
   "metadata": {},
   "source": [
    "### Método"
   ]
  },
  {
   "cell_type": "markdown",
   "id": "70e69985",
   "metadata": {},
   "source": [
    "### Desenvolvimento\n",
    "\n",
    "- Primeiras análises da maneira mais básica possível;\n",
    "- Começar a explorar e plotar para permitir brotar primeiras ideias e hipoteses."
   ]
  },
  {
   "cell_type": "markdown",
   "id": "10f19b73",
   "metadata": {},
   "source": [
    "### Resultados"
   ]
  },
  {
   "cell_type": "markdown",
   "id": "10dd3557",
   "metadata": {},
   "source": [
    "### Discussão / Conclusões"
   ]
  },
  {
   "cell_type": "markdown",
   "id": "f4e4acd8",
   "metadata": {},
   "source": [
    "### Referências Bibliográficas"
   ]
  },
  {
   "cell_type": "markdown",
   "id": "a127ed8c",
   "metadata": {},
   "source": [
    "## Checklist Projeto\n",
    "\n",
    "### Instruções para o projeto/notebook:\n",
    "------\n",
    "- [ ] Capriche nas análise;\n",
    "- [ ] Escreva conclusões e hipóteses (ainda que inconclusivas);\n",
    "- [ ] Resumir os pontos que julgar mais interessantes do projeto;\n",
    "- [ ] Delimitar Escopo do Projeto de acordo com o tempo e o aprendizado do módulo;\n",
    "- [ ] Utilizar base de dados sugerida;\n",
    "- [ ] Estruturar o projeto de maneira organizada e lógica;\n",
    "- [ ] Criar um notebook com Enredo atraente e coerente;\n",
    "- [ ] Tratar e descrever os dados quando necessário;\n",
    "- [ ] Fundamentar o cruzamento dos dados se utilizar outras bases;\n",
    "- [ ] Aplicar técnicas de configurações de gráficos para torná-los compreensíveis e para criar argumentações embasadas neles;\n",
    "- [ ] Se possível pesquisar para ir além do apresentado no módulo;\n",
    "- [ ] Fazer uma conclusão que relate as limitações do projeto, dando ideias para projetos futuros e apresentando os principais resultados da análise;\n",
    "- [ ] Citar e trazer as fontes de todo o conteúdo que apresentar e não for de sua autoria.\n",
    "\n",
    "### Instruções para Github e REAMDME.md\n",
    "------\n",
    "- [ ] Marcar a Alura no projeto com \"#alura\", \"#bootcampDS\" e \"#bootcampDataScience\";\n",
    "- [ ] Capa do README;\n",
    "- [ ] Resumo do projeto;\n",
    "- [ ] Apresentação da estrutura do projeto;\n",
    "    - [ ] Fontes de dados;\n",
    "    - [ ] Objetivos;\n",
    "    - [ ] Conclusões."
   ]
  }
 ],
 "metadata": {
  "kernelspec": {
   "display_name": "Python 3",
   "language": "python",
   "name": "python3"
  },
  "language_info": {
   "codemirror_mode": {
    "name": "ipython",
    "version": 3
   },
   "file_extension": ".py",
   "mimetype": "text/x-python",
   "name": "python",
   "nbconvert_exporter": "python",
   "pygments_lexer": "ipython3",
   "version": "3.9.4"
  }
 },
 "nbformat": 4,
 "nbformat_minor": 5
}
